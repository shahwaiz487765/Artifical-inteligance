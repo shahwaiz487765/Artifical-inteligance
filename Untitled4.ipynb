{
  "nbformat": 4,
  "nbformat_minor": 0,
  "metadata": {
    "colab": {
      "provenance": []
    },
    "kernelspec": {
      "name": "python3",
      "display_name": "Python 3"
    },
    "language_info": {
      "name": "python"
    }
  },
  "cells": [
    {
      "cell_type": "code",
      "execution_count": 3,
      "metadata": {
        "colab": {
          "base_uri": "https://localhost:8080/"
        },
        "id": "fDGodi_xHJMz",
        "outputId": "5aedca7c-f5f2-40c9-dec7-f23297f82e6b"
      },
      "outputs": [
        {
          "output_type": "stream",
          "name": "stdout",
          "text": [
            "The minimum distance path from Arad to Bucharest is:\n",
            "['Arad', 'Sibiu', 'Rimnicu Vilcea', 'Pitesti', 'Bucharest']\n",
            "The total distance is: 418\n"
          ]
        }
      ],
      "source": [
        "#Home activity\n",
        "from queue import PriorityQueue\n",
        "\n",
        "# Define the graph as a dictionary of dictionaries\n",
        "graph = {'Arad': {'Zerind': 75, 'Sibiu': 140, 'Timisoara': 118},\n",
        "         'Zerind': {'Arad': 75, 'Oradea': 71},\n",
        "         'Oradea': {'Zerind': 71, 'Sibiu': 151},\n",
        "         'Sibiu': {'Arad': 140, 'Oradea': 151, 'Fagaras': 99, 'Rimnicu Vilcea': 80},\n",
        "         'Timisoara': {'Arad': 118, 'Lugoj': 111},\n",
        "         'Lugoj': {'Timisoara': 111, 'Mehadia': 70},\n",
        "         'Mehadia': {'Lugoj': 70, 'Drobeta': 75},\n",
        "         'Drobeta': {'Mehadia': 75, 'Craiova': 120},\n",
        "         'Craiova': {'Drobeta': 120, 'Rimnicu Vilcea': 146, 'Pitesti': 138},\n",
        "         'Rimnicu Vilcea': {'Sibiu': 80, 'Craiova': 146, 'Pitesti': 97},\n",
        "         'Fagaras': {'Sibiu': 99, 'Bucharest': 211},\n",
        "         'Pitesti': {'Rimnicu Vilcea': 97, 'Craiova': 138, 'Bucharest': 101},\n",
        "         'Bucharest': {'Fagaras': 211, 'Pitesti': 101}}\n",
        "\n",
        "def uniform_cost_search(graph, start, goal):\n",
        "    frontier = PriorityQueue()\n",
        "    frontier.put((0, start))\n",
        "    explored = []\n",
        "    path = {}\n",
        "    path[start] = None\n",
        "\n",
        "    while not frontier.empty():\n",
        "        cost, current_node = frontier.get()\n",
        "        explored.append(current_node)\n",
        "\n",
        "        if current_node == goal:\n",
        "            final_path = []\n",
        "            while current_node in path:\n",
        "                final_path.append(current_node)\n",
        "                current_node = path[current_node]\n",
        "            final_path.reverse()\n",
        "            return final_path\n",
        "\n",
        "        for neighbor, neighbor_cost in graph[current_node].items():\n",
        "            if neighbor not in explored:\n",
        "                new_cost = cost + neighbor_cost\n",
        "                if neighbor not in [node[1] for node in frontier.queue]:\n",
        "                    frontier.put((new_cost, neighbor))\n",
        "                    path[neighbor] = current_node\n",
        "                elif new_cost < [node[0] for node in frontier.queue if node[1] == neighbor][0]:\n",
        "                    frontier.get([node for node in frontier.queue if node[1] == neighbor][0])\n",
        "                    frontier.put((new_cost, neighbor))\n",
        "                    path[neighbor] = current_node\n",
        "\n",
        "    return None\n",
        "\n",
        "# Test the uniform cost search algorithm\n",
        "start_node = 'Arad'\n",
        "goal_node = 'Bucharest'\n",
        "result_path = uniform_cost_search(graph, start_node, goal_node)\n",
        "\n",
        "if result_path:\n",
        "    print(\"The minimum distance path from\", start_node, \"to\", goal_node, \"is:\")\n",
        "    print(result_path)\n",
        "    print(\"The total distance is:\", sum(graph[result_path[i]][result_path[i+1]] for i in range(len(result_path)-1)))\n",
        "else:\n",
        "    print(\"Goal not reachable from the starting node\")\n"
      ]
    },
    {
      "cell_type": "code",
      "source": [
        "#activity no 2\n",
        "class node:\n",
        "  def __init__(self,state,parent,actions,totalcost):\n",
        "    self.state = state\n",
        "    self.parent = parent\n",
        "    self.actions = actions\n",
        "    self.totalcost = totalcost\n",
        "\n",
        "def actionSequence(graph,initialstate,goalstate):\n",
        "  solution = [goalstate]\n",
        "  currentparent = graph[goalstate].parent\n",
        "  \n",
        "  while currentparent != None:\n",
        "    \n",
        "    solution.append(currentparent)\n",
        "    currentparent = graph[currentparent].parent\n",
        "\n",
        "  solution.reverse()\n",
        "  return solution\n",
        "\n",
        "def dfs(initialstate,goalstate):\n",
        "  \n",
        "  graph = {'A': node('A',None,['B','C','E'],None),\n",
        "           'B': node('B',None,['A','D','E'],None),\n",
        "           'C': node('C',None,['A','F','G'],None),\n",
        "           'D': node('D',None,['B','E'],None),\n",
        "           'E': node('E',None,['A','B','D'],None),\n",
        "           'F': node('F',None,['C'],None),\n",
        "           'G': node('G',None,['C'],None)\n",
        "          }\n",
        "  frontier = [initialstate]\n",
        "  explored = []\n",
        "  currentChildren = 0\n",
        "  while frontier:\n",
        "    currentnode = frontier.pop(len(frontier)-1)\n",
        "    explored.append(currentnode)\n",
        "    for child in graph[currentnode].actions:\n",
        "      if child not in frontier and child not in explored:\n",
        "        graph[child].parent = currentnode\n",
        "        if graph[child].state == goalstate:\n",
        "          # print(explored)\n",
        "          return actionSequence(graph,initialstate,goalstate)\n",
        "        currentChildren=currentChildren+1\n",
        "        frontier.append(child)\n",
        "  if currentChildren == 0 :\n",
        "    del explored[len(explored)-1]\n",
        "solution = dfs('A','D')\n",
        "print(solution)\n",
        "\n",
        "  \n"
      ],
      "metadata": {
        "colab": {
          "base_uri": "https://localhost:8080/"
        },
        "id": "NBm7UIuWR24i",
        "outputId": "f74d09e9-7364-4346-e266-5af0d5371eba"
      },
      "execution_count": 4,
      "outputs": [
        {
          "output_type": "stream",
          "name": "stdout",
          "text": [
            "['A', 'E', 'D']\n"
          ]
        }
      ]
    },
    {
      "cell_type": "code",
      "source": [
        "#Activity no 3\n",
        "class node:\n",
        "  def __init__(self,state,parent,actions,totalcost):\n",
        "    self.state = state\n",
        "    self.parent = parent\n",
        "    self.actions = actions\n",
        "    self.totalcost = totalcost\n",
        "\n",
        "def actionSequence(graph,initialstate,goalstate):\n",
        "  solution = [goalstate]\n",
        "  currentparent = graph[goalstate].parent\n",
        "  \n",
        "  while currentparent != None:\n",
        "    \n",
        "    solution.append(currentparent)\n",
        "    currentparent = graph[currentparent].parent\n",
        "\n",
        "  solution.reverse()\n",
        "  return solution\n",
        "\n",
        "def bfs(initialstate,goalstate):\n",
        "  \n",
        "  graph = {'A': node('A',None,['B','C','E'],None),\n",
        "           'B': node('B',None,['A','D','E'],None),\n",
        "           'C': node('C',None,['A','F','G'],None),\n",
        "           'D': node('D',None,['B','E'],None),\n",
        "           'E': node('E',None,['A','B','D'],None),\n",
        "           'F': node('F',None,['C'],None),\n",
        "           'G': node('G',None,['C'],None)\n",
        "          }\n",
        "  frontier = [initialstate]\n",
        "  explored = []\n",
        "  while frontier:\n",
        "    currentnode = frontier.pop(0)\n",
        "    explored.append(currentnode)\n",
        "    for child in graph[currentnode].actions:\n",
        "      if child not in frontier and child not in explored:\n",
        "        graph[child].parent = currentnode\n",
        "        if graph[child].state == goalstate:\n",
        "          return actionSequence(graph,initialstate,goalstate)\n",
        "        frontier.append(child)\n",
        "solution = bfs('D','C')\n",
        "print(solution)\n",
        "\n",
        "\n",
        "  \n"
      ],
      "metadata": {
        "colab": {
          "base_uri": "https://localhost:8080/"
        },
        "id": "ZGYyVoPMTWuI",
        "outputId": "780228a1-09eb-45be-f39e-58e10d4ae3cc"
      },
      "execution_count": 5,
      "outputs": [
        {
          "output_type": "stream",
          "name": "stdout",
          "text": [
            "['D', 'B', 'A', 'C']\n"
          ]
        }
      ]
    },
    {
      "cell_type": "code",
      "source": [
        "#Activity No 1:\n",
        "class Node:\n",
        "    def __init__(self,state, parent, actions, totalCost):\n",
        "        self.state = state\n",
        "        self.parent = parent\n",
        "        self.actions = actions\n",
        "        self.totalCost = totalCost\n",
        "graph = {'A' : Node('A', None, ['B','E','C'], None),\n",
        "         'B' : Node('B', None, ['D', 'E', 'A'], None),\n",
        "         'C' : Node('C' ,None, ['A','F','G'], None),\n",
        "         'D' : Node('D', None, ['B', 'E'], None),\n",
        "         'E' : Node('E', None, ['A', 'B', 'D'], None),\n",
        "         'F' : Node('F', None, ['C'], None),\n",
        "         'G' : Node('G', None, ['C'], None)}\n"
      ],
      "metadata": {
        "id": "AvWFmU3kXwWj"
      },
      "execution_count": 9,
      "outputs": []
    },
    {
      "cell_type": "code",
      "source": [
        "#activity 4\n",
        "from queue import PriorityQueue\n",
        "\n",
        "# Define the tree as a dictionary of dictionaries\n",
        "tree = {'A': {'B': 1, 'C': 3},\n",
        "        'B': {'D': 2, 'E': 1},\n",
        "        'C': {'F': 4},\n",
        "        'D': {},\n",
        "        'E': {'G': 3},\n",
        "        'F': {},\n",
        "        'G': {}}\n",
        "\n",
        "def uniform_cost_search(tree, start, goal):\n",
        "    frontier = PriorityQueue()\n",
        "    frontier.put((0, start))\n",
        "    explored = []\n",
        "    path = {}\n",
        "    path[start] = None\n",
        "\n",
        "    while not frontier.empty():\n",
        "        cost, current_node = frontier.get()\n",
        "        explored.append(current_node)\n",
        "\n",
        "        if current_node == goal:\n",
        "            final_path = []\n",
        "            while current_node in path:\n",
        "                final_path.append(current_node)\n",
        "                current_node = path[current_node]\n",
        "            final_path.reverse()\n",
        "            return final_path\n",
        "\n",
        "        for neighbor, neighbor_cost in tree[current_node].items():\n",
        "            if neighbor not in explored:\n",
        "                new_cost = cost + neighbor_cost\n",
        "                if neighbor not in [node[1] for node in frontier.queue]:\n",
        "                    frontier.put((new_cost, neighbor))\n",
        "                    path[neighbor] = current_node\n",
        "                elif new_cost < [node[0] for node in frontier.queue if node[1] == neighbor][0]:\n",
        "                    frontier.get([node for node in frontier.queue if node[1] == neighbor][0])\n",
        "                    frontier.put((new_cost, neighbor))\n",
        "                    path[neighbor] = current_node\n",
        "\n",
        "    return None\n",
        "\n",
        "# Test the uniform cost search algorithm\n",
        "start_node = 'C'\n",
        "goal_node = 'B'\n",
        "result_path = uniform_cost_search(tree, start_node, goal_node)\n",
        "\n",
        "if result_path:\n",
        "    print(\"The minimum cost path from\", start_node, \"to\", goal_node, \"is:\")\n",
        "    print(result_path)\n",
        "    print(\"The total cost is:\", sum(tree[result_path[i]][result_path[i+1]] for i in range(len(result_path)-1)))\n",
        "else:\n",
        "    print(\"Goal not reachable from the starting node\")\n"
      ],
      "metadata": {
        "colab": {
          "base_uri": "https://localhost:8080/"
        },
        "id": "nJqItOTuX4Qk",
        "outputId": "d9bb260f-dcb8-4ccb-b413-c871b0efab2b"
      },
      "execution_count": 7,
      "outputs": [
        {
          "output_type": "stream",
          "name": "stdout",
          "text": [
            "Goal not reachable from the starting node\n"
          ]
        }
      ]
    },
    {
      "cell_type": "code",
      "source": [
        "#activity 4\n",
        "from queue import PriorityQueue\n",
        "\n",
        "# Define the tree as a dictionary of dictionaries\n",
        "tree = {'A': {'B': 1, 'C': 3},\n",
        "        'B': {'D': 2, 'E': 1},\n",
        "        'C': {'F': 4},\n",
        "        'D': {},\n",
        "        'E': {'G': 3},\n",
        "        'F': {},\n",
        "        'G': {}}\n",
        "\n",
        "def uniform_cost_search(tree, start, goal):\n",
        "    frontier = PriorityQueue()\n",
        "    frontier.put((0, start))\n",
        "    explored = []\n",
        "    path = {}\n",
        "    path[start] = None\n",
        "\n",
        "    while not frontier.empty():\n",
        "        cost, current_node = frontier.get()\n",
        "        explored.append(current_node)\n",
        "\n",
        "        if current_node == goal:\n",
        "            final_path = []\n",
        "            while current_node in path:\n",
        "                final_path.append(current_node)\n",
        "                current_node = path[current_node]\n",
        "            final_path.reverse()\n",
        "            return final_path\n",
        "\n",
        "        for neighbor, neighbor_cost in tree[current_node].items():\n",
        "            if neighbor not in explored:\n",
        "                new_cost = cost + neighbor_cost\n",
        "                if neighbor not in [node[1] for node in frontier.queue]:\n",
        "                    frontier.put((new_cost, neighbor))\n",
        "                    path[neighbor] = current_node\n",
        "                elif new_cost < [node[0] for node in frontier.queue if node[1] == neighbor][0]:\n",
        "                    frontier.get([node for node in frontier.queue if node[1] == neighbor][0])\n",
        "                    frontier.put((new_cost, neighbor))\n",
        "                    path[neighbor] = current_node\n",
        "\n",
        "    return None\n",
        "\n",
        "# Test the uniform cost search algorithm\n",
        "start_node = 'C'\n",
        "goal_node = 'B'\n",
        "result_path = uniform_cost_search(tree, start_node, goal_node)\n",
        "\n",
        "if result_path:\n",
        "    print(\"The minimum cost path from\", start_node, \"to\", goal_node, \"is:\")\n",
        "    print(result_path)\n",
        "    print(\"The total cost is:\", sum(tree[result_path[i]][result_path[i+1]] for i in range(len(result_path)-1)))\n",
        "else:\n",
        "    print(\"Goal not reachable from the starting node\")\n"
      ],
      "metadata": {
        "colab": {
          "base_uri": "https://localhost:8080/"
        },
        "id": "v30mgYaeZ8zh",
        "outputId": "9c377463-d7d5-48bd-cf1d-a469df9f3aa2"
      },
      "execution_count": 8,
      "outputs": [
        {
          "output_type": "stream",
          "name": "stdout",
          "text": [
            "Goal not reachable from the starting node\n"
          ]
        }
      ]
    }
  ]
}